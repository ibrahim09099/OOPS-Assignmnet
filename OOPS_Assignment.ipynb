{
  "nbformat": 4,
  "nbformat_minor": 0,
  "metadata": {
    "colab": {
      "provenance": []
    },
    "kernelspec": {
      "name": "python3",
      "display_name": "Python 3"
    },
    "language_info": {
      "name": "python"
    }
  },
  "cells": [
    {
      "cell_type": "code",
      "execution_count": null,
      "metadata": {
        "id": "a_8b1P8GFg8t"
      },
      "outputs": [],
      "source": []
    },
    {
      "cell_type": "markdown",
      "source": [
        "#1. What is Object-Oriented Programming (OOP)?\n",
        "Ans- OOP is a programming paradigm based on the concept of “objects,” which are instances of classes. It organizes software design around data (attributes) and behaviors (methods) rather than functions and logic. OOP promotes code reusability, modularity, and scalability.\n",
        "\n",
        "\n",
        "#2. What is a class in OOP?\n",
        "Ans- A class is a blueprint or template for creating objects. It defines the attributes (data members) and methods (functions) that the objects of the class will have.\n",
        "\n",
        "\n",
        "#3. What is an object in OOP?\n",
        "Ans-An object is an instance of a class. It is a specific entity created from a class, containing data and methods defined by the class.\n",
        "\n",
        "\n",
        "#4. What is the difference between abstraction and encapsulation?\n",
        "\n",
        " • Abstraction: Hides implementation details and only shows essential features to the user. It focuses on “what” an object does.\n",
        " • Encapsulation: Binds data and methods into a single unit and restricts access to some components using access modifiers (e.g., private, protected). It focuses on “how” the object achieves its functionality.\n",
        "\n",
        "\n",
        " #5. What are dunder methods in Python?\n",
        "\n",
        "Dunder (double underscore) methods, also called magic methods or special methods, are predefined methods in Python with names surrounded by double underscores (e.g., init, str, __add__). They enable the customization of class behavior, such as object initialization, string representation, and operator overloading.\n",
        "\n",
        "\n",
        "\n",
        "#6. Explain the concept of inheritance in OOP.\n",
        "\n",
        "Inheritance is a mechanism where one class (child or derived class) inherits the attributes and methods of another class (parent or base class). It enables code reuse and establishes a relationship between classes.\n",
        "\n",
        "\n",
        "#7. What is polymorphism in OOP?\n",
        "\n",
        "Polymorphism allows objects of different classes to be treated as objects of a common parent class. It is achieved through method overriding or operator overloading, enabling a single interface to represent different data types or classes.\n",
        "\n",
        "\n",
        "#9. What is a constructor in Python?\n",
        "\n",
        "A constructor is a special method, __init__(), used to initialize an object’s attributes when the object is created.\n",
        "\n",
        "\n",
        "\n",
        "#10. What are class and static methods in Python?\n",
        "\n",
        " • Class methods: Defined with the @classmethod decorator and take cls as the first parameter, representing the class.\n",
        " • Static methods: Defined with the @staticmethod decorator and do not require self or cls. They belong to the class and not to any specific object.\n",
        "\n",
        " #11. What is method overloading in Python?\n",
        "\n",
        "Python does not support true method overloading but achieves similar functionality through default arguments or by checking argument types within a method.\n",
        "\n",
        "#12. What is method overriding in OOP?\n",
        "\n",
        "Method overriding occurs when a child class redefines a method of its parent class, providing a new implementation.\n",
        "\n",
        "#13. What is a property decorator in Python?\n",
        "\n",
        "The @property decorator allows a method to be accessed as an attribute, enabling getter, setter, and deleter methods to be used like attributes.\n",
        "\n",
        "#14. Why is polymorphism important in OOP?\n",
        "\n",
        "Polymorphism promotes flexibility and maintainability by allowing a single interface to work with different data types or classes, enabling more generic and reusable code.\n",
        "#15. What is an abstract class in Python?\n",
        "\n",
        "An abstract class is a class that cannot be instantiated and serves as a blueprint for other classes. It contains one or more abstract methods, defined using the @abstractmethod decorator from the abc module.\n",
        "\n",
        "#16. What are the advantages of OOP?\n",
        "\n",
        " • Code reusability through inheritance.\n",
        " • Modularity for easier maintenance.\n",
        " • Abstraction for cleaner interfaces\n",
        " • Encapsulation for data protection.\n",
        " • Scalability for large projects.\n",
        "\n",
        "\n",
        " #17. What is the difference between a class variable and an instance variable?\n",
        "\n",
        " • Class variable: Shared among all instances of a class. Defined at the class level.\n",
        " • Instance variable: Unique to each object. Defined inside methods like __init__().\n",
        "\n",
        "\n",
        "\n",
        "#18. What is multiple inheritance in Python?\n",
        "\n",
        "Multiple inheritance allows a class to inherit from more than one base class, enabling the child class to access attributes and methods from all parent classes.\n",
        "\n",
        "\n",
        "\n",
        "#19. Explain the purpose of str and repr methods in Python.\n",
        "\n",
        " • str: Provides a user-friendly string representation of an object.\n",
        " • repr: Provides an unambiguous string representation, used for debugging.\n",
        "\n",
        " #20. What is the significance of the super() function in Python?\n",
        "\n",
        "The super() function allows a child class to call methods from its parent class, enabling better code reuse and resolving multiple inheritance issues.\n",
        "\n",
        "\n",
        "\n",
        "#21. What is the significance of the del method in Python?\n",
        "\n",
        "The del method is a destructor, called when an object is about to be destroyed. It is used to clean up resources like closing files or database connections.\n",
        "\n",
        "\n",
        "#22. What is the difference between @staticmethod and @classmethod in Python?\n",
        "\n",
        " • @staticmethod: Does not access class or instance attributes and methods.\n",
        " • @classmethod: Operates on the class and can modify its state using the cls parameter.\n",
        "\n",
        "#23. How does polymorphism work in Python with inheritance?\n",
        "\n",
        "Polymorphism in Python allows a method in a child class to override a method in the parent class. The appropriate method is called based on the object’s actual class during runtime\n",
        "\n",
        "\n",
        "#24. What is method chaining in Python OOP?\n",
        "\n",
        "Method chaining allows multiple method calls to be linked together by returning self from methods.\n",
        "\n",
        "\n",
        "\n",
        "\n",
        "\n",
        "\n",
        "\n",
        "\n",
        "\n",
        "\n",
        "\n",
        "\n",
        "\n"
      ],
      "metadata": {
        "id": "BHbCDZ8IGphk"
      }
    },
    {
      "cell_type": "code",
      "source": [],
      "metadata": {
        "id": "MaWZDnViJH4h"
      },
      "execution_count": null,
      "outputs": []
    },
    {
      "cell_type": "markdown",
      "source": [
        "\n",
        "#1. Create a parent class Animal with a method speak) that prints a generic message. Create a child class Dog that overrides the speak) method to print \"Bark!\"\n"
      ],
      "metadata": {
        "id": "4UcuRAQ4JLqO"
      }
    },
    {
      "cell_type": "code",
      "source": [
        "class Animal:\n",
        "  def speak(self):\n",
        "    print(\"Animal is speaking\")\n",
        "\n",
        "class Dog(Animal):\n",
        "  def speak(self):\n",
        "    print(\"Bark!\")\n",
        "\n",
        "dog = Dog()\n",
        "dog.speak()"
      ],
      "metadata": {
        "id": "0PXLxwL2K0Bn",
        "outputId": "b96135fc-d0a4-4727-84cc-9ae600fe32c6",
        "colab": {
          "base_uri": "https://localhost:8080/"
        }
      },
      "execution_count": 1,
      "outputs": [
        {
          "output_type": "stream",
          "name": "stdout",
          "text": [
            "Bark!\n"
          ]
        }
      ]
    },
    {
      "cell_type": "markdown",
      "source": [
        "#2. Write a program to create an abstract class Shape with a method area (). Derive classes Circle and Rectangle from it and implement the area) method in both."
      ],
      "metadata": {
        "id": "nxJ7AdUuLTKK"
      }
    },
    {
      "cell_type": "code",
      "source": [
        "from abc import ABC, abstract\n",
        "\n",
        "class Shape(ABC):\n",
        "  @abstractmethod\n",
        "  def area(self):\n",
        "    pass\n",
        "\n",
        "class Circle(Shape):\n",
        "  def __init__(self, radius):\n",
        "    self.radius = radius\n",
        "  def area(self):\n",
        "    return 3.14 * self.radius * self.radius\n",
        "\n",
        "class Rectangle(Shape):\n",
        "  def __init__(self, length, width):\n",
        "    self.length = length\n",
        "    self.width = width\n",
        "  def area(self):\n",
        "    return self.length * self.width"
      ],
      "metadata": {
        "id": "R511jsCHMJ2x",
        "outputId": "946fc138-e83c-4767-8ee6-c5acb0b5de48",
        "colab": {
          "base_uri": "https://localhost:8080/",
          "height": 383
        }
      },
      "execution_count": 2,
      "outputs": [
        {
          "output_type": "error",
          "ename": "ImportError",
          "evalue": "cannot import name 'abstract' from 'abc' (/usr/lib/python3.10/abc.py)",
          "traceback": [
            "\u001b[0;31m---------------------------------------------------------------------------\u001b[0m",
            "\u001b[0;31mImportError\u001b[0m                               Traceback (most recent call last)",
            "\u001b[0;32m<ipython-input-2-dc0dba58f006>\u001b[0m in \u001b[0;36m<cell line: 1>\u001b[0;34m()\u001b[0m\n\u001b[0;32m----> 1\u001b[0;31m \u001b[0;32mfrom\u001b[0m \u001b[0mabc\u001b[0m \u001b[0;32mimport\u001b[0m \u001b[0mABC\u001b[0m\u001b[0;34m,\u001b[0m \u001b[0mabstract\u001b[0m\u001b[0;34m\u001b[0m\u001b[0;34m\u001b[0m\u001b[0m\n\u001b[0m\u001b[1;32m      2\u001b[0m \u001b[0;34m\u001b[0m\u001b[0m\n\u001b[1;32m      3\u001b[0m \u001b[0;32mclass\u001b[0m \u001b[0mShape\u001b[0m\u001b[0;34m(\u001b[0m\u001b[0mABC\u001b[0m\u001b[0;34m)\u001b[0m\u001b[0;34m:\u001b[0m\u001b[0;34m\u001b[0m\u001b[0;34m\u001b[0m\u001b[0m\n\u001b[1;32m      4\u001b[0m   \u001b[0;34m@\u001b[0m\u001b[0mabstractmethod\u001b[0m\u001b[0;34m\u001b[0m\u001b[0;34m\u001b[0m\u001b[0m\n\u001b[1;32m      5\u001b[0m   \u001b[0;32mdef\u001b[0m \u001b[0marea\u001b[0m\u001b[0;34m(\u001b[0m\u001b[0mself\u001b[0m\u001b[0;34m)\u001b[0m\u001b[0;34m:\u001b[0m\u001b[0;34m\u001b[0m\u001b[0;34m\u001b[0m\u001b[0m\n",
            "\u001b[0;31mImportError\u001b[0m: cannot import name 'abstract' from 'abc' (/usr/lib/python3.10/abc.py)",
            "",
            "\u001b[0;31m---------------------------------------------------------------------------\u001b[0;32m\nNOTE: If your import is failing due to a missing package, you can\nmanually install dependencies using either !pip or !apt.\n\nTo view examples of installing some common dependencies, click the\n\"Open Examples\" button below.\n\u001b[0;31m---------------------------------------------------------------------------\u001b[0m\n"
          ],
          "errorDetails": {
            "actions": [
              {
                "action": "open_url",
                "actionText": "Open Examples",
                "url": "/notebooks/snippets/importing_libraries.ipynb"
              }
            ]
          }
        }
      ]
    },
    {
      "cell_type": "markdown",
      "source": [
        "#3. Implement a multi-level inheritance scenario where a class Vehicle has an attribute type. Derive a class Car and further derive a class ElectricCar that adds a battery attribute."
      ],
      "metadata": {
        "id": "Dep6AXpXM9o7"
      }
    },
    {
      "cell_type": "code",
      "source": [
        "class Vehicle:\n",
        "  def __init__(self, type):\n",
        "    self.type = type\n",
        "\n",
        "class Car(Vehicle):\n",
        "    def __init__(self, type, color):\n",
        "      super().__init__(type)\n",
        "      self.color = color\n",
        "\n",
        "class ElectricCar(Car):\n",
        "    def __init__(self, type, color, battery):\n",
        "      super().__init__(type, color)\n",
        "      self.battery = battery"
      ],
      "metadata": {
        "id": "MctSZ74eNNTy"
      },
      "execution_count": 6,
      "outputs": []
    },
    {
      "cell_type": "markdown",
      "source": [
        "#5.Write a program to demonstrate encapsulation by creating a class BankAccount with private attributes balance and methods to deposit, withdraw, and check balance"
      ],
      "metadata": {
        "id": "Jsx29dSIOAIi"
      }
    },
    {
      "cell_type": "code",
      "source": [],
      "metadata": {
        "id": "I8pHXxOeOzIq"
      },
      "execution_count": null,
      "outputs": []
    },
    {
      "cell_type": "code",
      "source": [
        "class BankAccount:\n",
        "    def __init__(self, initial_balance=0):\n",
        "        self.__balance = initial_balance\n",
        "\n",
        "    def deposit(self, amount):\n",
        "        self.__balance += amount\n",
        "\n",
        "    def withdraw(self, amount):\n",
        "        if amount <= self.__balance:\n",
        "            self.__balance -= amount\n",
        "        else:\n",
        "            print(\"Insufficient funds\")\n",
        "\n",
        "    def check_balance(self):\n",
        "        return self.__balance"
      ],
      "metadata": {
        "id": "VdJwNN4vOWcb"
      },
      "execution_count": 7,
      "outputs": []
    },
    {
      "cell_type": "markdown",
      "source": [
        "#6.Demonstrate runtime polymorphism using a method play) in a base class Instrument. Derive classes Guitar and Piano that implement their own version of play)."
      ],
      "metadata": {
        "id": "gU7071KFPJMC"
      }
    },
    {
      "cell_type": "code",
      "source": [
        "class Instrument:\n",
        "    def play(self):\n",
        "        print(\"Playing instrument\")\n",
        "\n",
        "class Guitar(Instrument):\n",
        "    def play(self):\n",
        "        print(\"Strumming guitar\")\n",
        "\n",
        "class Piano(Instrument):\n",
        "    def play(self):\n",
        "        print(\"Playing piano\")\n",
        "\n"
      ],
      "metadata": {
        "id": "aY-J1045Pgb1"
      },
      "execution_count": 10,
      "outputs": []
    },
    {
      "cell_type": "markdown",
      "source": [
        "#7.Create a class MathOperations with a class method add _numbers) to add two numbers and a static method subtract_numbers) to subtract two numbers.\n"
      ],
      "metadata": {
        "id": "z54mdeDqP1Wo"
      }
    },
    {
      "cell_type": "code",
      "source": [
        "class MathOperations:\n",
        "    @classmethod\n",
        "    def add_numbers(cls, a, b):\n",
        "        return a + b\n",
        "\n",
        "    @staticmethod\n",
        "    def subtract_numbers(a, b):\n",
        "        return a - b\n",
        "\n",
        "print(\"Addition:\", MathOperations.add_numbers(5, 3))\n",
        "print(\"Subtraction:\", MathOperations.subtract_numbers(5, 3))"
      ],
      "metadata": {
        "id": "1AczoY1kQFkC",
        "outputId": "6918f241-a818-4ab0-a9c4-b8a27a8162ca",
        "colab": {
          "base_uri": "https://localhost:8080/"
        }
      },
      "execution_count": 11,
      "outputs": [
        {
          "output_type": "stream",
          "name": "stdout",
          "text": [
            "Addition: 8\n",
            "Subtraction: 2\n"
          ]
        }
      ]
    },
    {
      "cell_type": "markdown",
      "source": [
        "#8.Implement a class Person with a class method to count the total number of persons created."
      ],
      "metadata": {
        "id": "7GXivpijQgyd"
      }
    },
    {
      "cell_type": "code",
      "source": [
        "class Person:\n",
        "    count = 0\n",
        "\n",
        "    def __init__(self):\n",
        "        Person.count += 1\n",
        "\n",
        "    @classmethod\n",
        "    def total_persons(cls):\n",
        "        return cls.count\n",
        "\n",
        "p1 = Person()\n",
        "p2 = Person()\n",
        "print(\"Total Persons:\", Person.total_persons())"
      ],
      "metadata": {
        "id": "ZoboUj7GQoZH",
        "outputId": "e25f37c9-2a4e-43ab-ad02-60a8dc872e56",
        "colab": {
          "base_uri": "https://localhost:8080/"
        }
      },
      "execution_count": 12,
      "outputs": [
        {
          "output_type": "stream",
          "name": "stdout",
          "text": [
            "Total Persons: 2\n"
          ]
        }
      ]
    },
    {
      "cell_type": "markdown",
      "source": [
        "#9.Write a class Fraction with attributes numerator and denominator. Override the str method to display the fraction as \"numerator/denominator\"."
      ],
      "metadata": {
        "id": "QlD2rotVQ86F"
      }
    },
    {
      "cell_type": "code",
      "source": [
        "class Fraction:\n",
        "    def __init__(self, numerator, denominator):\n",
        "        self.numerator = numerator\n",
        "        self.denominator = denominator\n",
        "\n",
        "    def __str__(self):\n",
        "        return f\"{self.numerator}/{self.denominator}\"\n",
        "\n",
        "f = Fraction(3, 4)\n",
        "print(f)"
      ],
      "metadata": {
        "id": "XEXMlWcXRDr8",
        "outputId": "7aaf1d99-e880-4842-ca98-a73de3b89931",
        "colab": {
          "base_uri": "https://localhost:8080/"
        }
      },
      "execution_count": 13,
      "outputs": [
        {
          "output_type": "stream",
          "name": "stdout",
          "text": [
            "3/4\n"
          ]
        }
      ]
    },
    {
      "cell_type": "markdown",
      "source": [
        "#10Demonstrate operator overloading by creating a class Vector and overriding the add method to add two vectors."
      ],
      "metadata": {
        "id": "1qDSy-ajRN3u"
      }
    },
    {
      "cell_type": "code",
      "source": [
        "class Vector:\n",
        "    def __init__(self, x, y):\n",
        "        self.x = x\n",
        "        self.y = y\n",
        "\n",
        "    def __add__(self, other):\n",
        "        return Vector(self.x + other.x, self.y + other.y)\n",
        "\n",
        "    def __str__(self):\n",
        "        return f\"({self.x}, {self.y})\"\n",
        "\n",
        "# Usage\n",
        "v1 = Vector(1, 2)\n",
        "v2 = Vector(3, 4)\n",
        "print(v1 + v2)"
      ],
      "metadata": {
        "id": "ZaurK3iSRXGN",
        "outputId": "c70cd985-74d8-439b-f194-6457767ba6a0",
        "colab": {
          "base_uri": "https://localhost:8080/"
        }
      },
      "execution_count": 14,
      "outputs": [
        {
          "output_type": "stream",
          "name": "stdout",
          "text": [
            "(4, 6)\n"
          ]
        }
      ]
    },
    {
      "cell_type": "markdown",
      "source": [],
      "metadata": {
        "id": "QMvlMFkURggN"
      }
    },
    {
      "cell_type": "markdown",
      "source": [
        "#11.Create a class Person with attributes name and age. Add a method greet) that prints \"Hello, my name is {name} and I am {age} years old.\""
      ],
      "metadata": {
        "id": "X0bHCXrrRnWr"
      }
    },
    {
      "cell_type": "code",
      "source": [
        "class Person:\n",
        "    def __init__(self, name, age):\n",
        "        self.name = name\n",
        "        self.age = age\n",
        "\n",
        "    def greet(self):\n",
        "        print(f\"Hello, my name is {self.name} and I am {self.age} years old.\")\n",
        "\n",
        "p = Person(\"Ibrahim\", 20)\n",
        "p.greet()"
      ],
      "metadata": {
        "id": "yGfHfu-jR0mE",
        "outputId": "417dc0d3-4b43-4989-f460-496ed800f34f",
        "colab": {
          "base_uri": "https://localhost:8080/"
        }
      },
      "execution_count": 17,
      "outputs": [
        {
          "output_type": "stream",
          "name": "stdout",
          "text": [
            "Hello, my name is Ibrahim and I am 20 years old.\n"
          ]
        }
      ]
    },
    {
      "cell_type": "markdown",
      "source": [
        "#12Implement a class Student with attributes name and grades. Create a method average _grade) to compute the average of the grades."
      ],
      "metadata": {
        "id": "bzM0z6yPSEyd"
      }
    },
    {
      "cell_type": "code",
      "source": [
        "class Student:\n",
        "    def __init__(self, name, grades):\n",
        "        self.name = name\n",
        "        self.grades = grades\n",
        "\n",
        "    def average_grade(self):\n",
        "        return sum(self.grades) / len(self.grades)\n",
        "\n",
        "s = Student(\"Bob\", [90, 80, 85])\n",
        "print(\"Average Grade:\", s.average_grade())"
      ],
      "metadata": {
        "id": "Q3AqXcPPSLg8",
        "outputId": "c569b015-5c44-4861-acca-17c2595ee702",
        "colab": {
          "base_uri": "https://localhost:8080/"
        }
      },
      "execution_count": 18,
      "outputs": [
        {
          "output_type": "stream",
          "name": "stdout",
          "text": [
            "Average Grade: 85.0\n"
          ]
        }
      ]
    },
    {
      "cell_type": "markdown",
      "source": [
        "#13Create a class Rectangle with methods set_dimensions) to set the dimensions and area to calculate the area."
      ],
      "metadata": {
        "id": "0nSCTupKSRWN"
      }
    },
    {
      "cell_type": "code",
      "source": [
        "class Rectangle:\n",
        "    def set_dimensions(self, width, height):\n",
        "        self.width = width\n",
        "        self.height = height\n",
        "\n",
        "    def area(self):\n",
        "        return self.width * self.height\n",
        "\n",
        "rect = Rectangle()\n",
        "rect.set_dimensions(5, 4)\n",
        "print(\"Area:\", rect.area())"
      ],
      "metadata": {
        "id": "_SuTpar3Sd7q",
        "outputId": "eda159f0-d9ab-4b43-f1c6-36be5a89b9ea",
        "colab": {
          "base_uri": "https://localhost:8080/"
        }
      },
      "execution_count": 19,
      "outputs": [
        {
          "output_type": "stream",
          "name": "stdout",
          "text": [
            "Area: 20\n"
          ]
        }
      ]
    },
    {
      "cell_type": "markdown",
      "source": [
        "#14Create a class Employee with a method calculate_ salary) that computes the salary based on hours worked and hourly rate. Create a derived class Manager that adds a bonus to the salary."
      ],
      "metadata": {
        "id": "bXRaBWLwSpC5"
      }
    },
    {
      "cell_type": "code",
      "source": [
        "class Employee:\n",
        "    def calculate_salary(self, hours_worked, hourly_rate):\n",
        "        return hours_worked * hourly_rate\n",
        "\n",
        "class Manager(Employee):\n",
        "    def calculate_salary(self, hours_worked, hourly_rate, bonus):\n",
        "        return super().calculate_salary(hours_worked, hourly_rate) + bonus\n",
        "\n",
        "m = Manager()\n",
        "print(\"Salary:\", m.calculate_salary(40, 50, 500))"
      ],
      "metadata": {
        "id": "Ry0r_OopSu5f",
        "outputId": "9d0c8e62-65af-4b3b-a009-6707772b2a7a",
        "colab": {
          "base_uri": "https://localhost:8080/"
        }
      },
      "execution_count": 20,
      "outputs": [
        {
          "output_type": "stream",
          "name": "stdout",
          "text": [
            "Salary: 2500\n"
          ]
        }
      ]
    },
    {
      "cell_type": "markdown",
      "source": [
        "#15Create a class Product with attributes name, price, and quantity. Implement a method total _price) that calculates the total price of the product."
      ],
      "metadata": {
        "id": "QLnXsP42S0_c"
      }
    },
    {
      "cell_type": "code",
      "source": [
        "class Product:\n",
        "    def __init__(self, name, price, quantity):\n",
        "        self.name = name\n",
        "        self.price = price\n",
        "        self.quantity = quantity\n",
        "\n",
        "    def total_price(self):\n",
        "        return self.price * self.quantity\n",
        "\n",
        "p = Product(\"Laptop\", 1000, 2)\n",
        "print(\"Total Price:\", p.total_price())"
      ],
      "metadata": {
        "id": "kL6dV5cNS7vd",
        "outputId": "dd872a23-4df7-4ea1-dc2c-52ff0ae29b2d",
        "colab": {
          "base_uri": "https://localhost:8080/"
        }
      },
      "execution_count": 21,
      "outputs": [
        {
          "output_type": "stream",
          "name": "stdout",
          "text": [
            "Total Price: 2000\n"
          ]
        }
      ]
    },
    {
      "cell_type": "markdown",
      "source": [
        "#16. Create a class Animal with an abstract method sound (). Create two derived classes Cow and Sheep that implement the sound () method."
      ],
      "metadata": {
        "id": "2eYkn8hyTS2m"
      }
    },
    {
      "cell_type": "code",
      "source": [
        "from abc import ABC, abstractmethod\n",
        "\n",
        "class Animal(ABC):\n",
        "    @abstractmethod\n",
        "    def sound(self):\n",
        "        pass\n",
        "\n",
        "class Cow(Animal):\n",
        "    def sound(self):\n",
        "        print(\"Moo\")\n",
        "\n",
        "class Sheep(Animal):\n",
        "    def sound(self):\n",
        "        print(\"Baa\")\n",
        "\n",
        "cow = Cow()\n",
        "cow.sound()\n",
        "sheep = Sheep()\n",
        "sheep.sound()"
      ],
      "metadata": {
        "id": "sEa648yJTgp5",
        "outputId": "98a4ca3f-d537-4f9c-aca9-85b0f418f9b9",
        "colab": {
          "base_uri": "https://localhost:8080/"
        }
      },
      "execution_count": 22,
      "outputs": [
        {
          "output_type": "stream",
          "name": "stdout",
          "text": [
            "Moo\n",
            "Baa\n"
          ]
        }
      ]
    },
    {
      "cell_type": "code",
      "source": [],
      "metadata": {
        "id": "5WEWfy8vTqGk"
      },
      "execution_count": null,
      "outputs": []
    },
    {
      "cell_type": "markdown",
      "source": [
        "#17Create a class Book with attributes title, author, and year_published. Add a method get_book_infol) that returns a formatted string with the book's details."
      ],
      "metadata": {
        "id": "ByE9PZ_DTqeR"
      }
    },
    {
      "cell_type": "code",
      "source": [
        "class Book:\n",
        "    def __init__(self, title, author, year_published):\n",
        "        self.title = title\n",
        "        self.author = author\n",
        "        self.year_published = year_published\n",
        "\n",
        "    def get_book_info(self):\n",
        "        return f\"'{self.title}' by {self.author}, published in {self.year_published}\"\n",
        "\n",
        "b = Book(\"1984\", \"George Orwell\", 1949)\n",
        "print(b.get_book_info())"
      ],
      "metadata": {
        "id": "F-Rq0RHJTwPb",
        "outputId": "e27ebab7-5810-438a-bbbe-3450fcdee5b8",
        "colab": {
          "base_uri": "https://localhost:8080/"
        }
      },
      "execution_count": 23,
      "outputs": [
        {
          "output_type": "stream",
          "name": "stdout",
          "text": [
            "'1984' by George Orwell, published in 1949\n"
          ]
        }
      ]
    },
    {
      "cell_type": "markdown",
      "source": [
        "#18Create a class House with attributes address and price. Create a derived class Mansion that adds an attribute number_of_rooms"
      ],
      "metadata": {
        "id": "yiBW_8WMT3Fs"
      }
    },
    {
      "cell_type": "code",
      "source": [
        "class House:\n",
        "    def __init__(self, address, price):\n",
        "        self.address = address\n",
        "        self.price = price\n",
        "\n",
        "class Mansion(House):\n",
        "    def __init__(self, address, price, number_of_rooms):\n",
        "        super().__init__(address, price)\n",
        "        self.number_of_rooms = number_of_rooms\n",
        "\n",
        "m = Mansion(\"123 Street\", 500000, 10)\n",
        "print(f\"Address: {m.address}, Price: {m.price}, Rooms: {m.number_of_rooms}\")"
      ],
      "metadata": {
        "id": "TKgHmlX2T9_-",
        "outputId": "9f1a24fa-0fa1-4dc9-c2c2-ceaeab58f8af",
        "colab": {
          "base_uri": "https://localhost:8080/"
        }
      },
      "execution_count": 24,
      "outputs": [
        {
          "output_type": "stream",
          "name": "stdout",
          "text": [
            "Address: 123 Street, Price: 500000, Rooms: 10\n"
          ]
        }
      ]
    }
  ]
}